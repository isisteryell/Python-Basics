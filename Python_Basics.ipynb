{
  "nbformat": 4,
  "nbformat_minor": 0,
  "metadata": {
    "colab": {
      "provenance": []
    },
    "kernelspec": {
      "name": "python3",
      "display_name": "Python 3"
    },
    "language_info": {
      "name": "python"
    }
  },
  "cells": [
    {
      "cell_type": "markdown",
      "source": [
        "#Python Basics"
      ],
      "metadata": {
        "id": "rrKOA2STWvSC"
      }
    },
    {
      "cell_type": "markdown",
      "source": [
        "1. What is Python, and why is it popular?\n",
        "  - Python is a programming language known for its simplicity and readibility. It is popular because it has vast library, and is used in web development, data science and machine learning.\n",
        "2. What is an interpreter in Python?\n",
        "  - An interpreter in Python executes code line by line, translating Python source code into machine-readable instructions during runtime.\n",
        "3.  What are pre-defined keywords in Python?\n",
        "  - Pre-defined keywords in Python are reserved words with special meaning that cannot be used as identifiers. Examples are if, else, def, return.\n",
        "4. Can keywords be used as variable names?\n",
        "  - No, keywords cannot be used as variable names in Python, as they are reserved for specific language functionality.\n",
        "5. What is mutability in Python?\n",
        "  - Mutability refers to if an object can be modified after it is created. Mutable objects like list can be changed, while immutable objects like tuples cannot be changed.\n",
        "6.  Why are lists mutable, but tuples are immutable?\n",
        "  - Lists are mutable because they are designed to store a collection of items that can change. Tuples are immutable to provide reliability and performance benefits for fixed collections of data.\n",
        "7. What is the difference between \"==\" and \"is\" operators in Python?\n",
        "  - The \"==\" operator checks if two objects have the same value, whereas the \"is\" operator checks if they are the same object in memory i.e., reference equality.\n",
        "8. What are logical operators in Python?\n",
        "  - Logical operators in Python are used to combine conditional statements and return Boolean values based on the conditions. Example of logical operators are and, or, not.\n",
        "9. 8 What is type casting in Python?\n",
        "  - Type casting is the process of converting one data type to another using functions like int(), float(), etc.\n",
        "10. What is the difference between implicit and explicit type casting?\n",
        "  - Implicit type casting  happens automatically by Python, while explicit type casting requires the programmer to manually convert a variable using casting functions like int() or str().\n",
        "11. What is the purpose of conditional statements in Python?\n",
        "  - Conditional statements such as if, elif, else allow different blocks of code to be executed based on whether a condition evaluates to True or False.\n",
        "12. How does the elif statement work?\n",
        "  - The elif is short name for else-if statement. It checks another condition if the previous if or elif conditions are not true, allowing for multiple checks in sequence.\n",
        "13.  What is the difference between for and while loops?\n",
        "  - A for loop iterates over a sequence , while a while loop repeats as long as a condition is True, making it ideal for cases where the number of iterations is unknown.\n",
        "14. Describe a scenario where a while loop is more suitable than a for loop.\n",
        "  - A while loop is more suitable when we don't know in advance how many times the loop should run, like when reading data until a certain condition is met. Example: until user input is valid."
      ],
      "metadata": {
        "id": "E1nFfJ8LXDXY"
      }
    },
    {
      "cell_type": "code",
      "source": [
        "# 1. Write a Python program to print \"Hello, World!\"\n",
        "print(\"Hello World!\")"
      ],
      "metadata": {
        "colab": {
          "base_uri": "https://localhost:8080/"
        },
        "id": "5Lpj29RGbKNF",
        "outputId": "c5ab4778-404b-41cb-ef77-dcf3da7cbb87"
      },
      "execution_count": 1,
      "outputs": [
        {
          "output_type": "stream",
          "name": "stdout",
          "text": [
            "Hello World!\n"
          ]
        }
      ]
    },
    {
      "cell_type": "code",
      "source": [
        "# 2. Write a Python program that displays your name and age\n",
        "name = \"Md Azhar Maqsood\"\n",
        "age = 22\n",
        "print(f\"Name: {name}\\nAge: {22}\")"
      ],
      "metadata": {
        "colab": {
          "base_uri": "https://localhost:8080/"
        },
        "id": "bBhv-jjibhqE",
        "outputId": "b69ee222-debb-40af-ae73-2374212be956"
      },
      "execution_count": 3,
      "outputs": [
        {
          "output_type": "stream",
          "name": "stdout",
          "text": [
            "Name: Md Azhar Maqsood\n",
            "Age: 22\n"
          ]
        }
      ]
    },
    {
      "cell_type": "code",
      "source": [
        "# 3. Write code to print all the pre-defined keywords in Python using the keyword library\n",
        "import keyword\n",
        "print(keyword.kwlist)"
      ],
      "metadata": {
        "colab": {
          "base_uri": "https://localhost:8080/"
        },
        "id": "W5X4m9i4bsoF",
        "outputId": "a89379e8-100b-4a43-f98f-735e70798625"
      },
      "execution_count": 4,
      "outputs": [
        {
          "output_type": "stream",
          "name": "stdout",
          "text": [
            "['False', 'None', 'True', 'and', 'as', 'assert', 'async', 'await', 'break', 'class', 'continue', 'def', 'del', 'elif', 'else', 'except', 'finally', 'for', 'from', 'global', 'if', 'import', 'in', 'is', 'lambda', 'nonlocal', 'not', 'or', 'pass', 'raise', 'return', 'try', 'while', 'with', 'yield']\n"
          ]
        }
      ]
    },
    {
      "cell_type": "code",
      "source": [
        "# 4. Write a program that checks if a given word is a Python keyword.\n",
        "s1 = \"false\"\n",
        "s2 = \"False\"\n",
        "if(keyword.iskeyword(s1)):\n",
        "  print(f\"{s1} is a keyword\")\n",
        "else:\n",
        "  print(f\"{s1} is not a keyword\")\n",
        "if(keyword.iskeyword(s2)):\n",
        "  print(f\"{s2} is a keyword\")\n",
        "else:\n",
        "  print(f\"{s2} is not a keyword\")"
      ],
      "metadata": {
        "colab": {
          "base_uri": "https://localhost:8080/"
        },
        "id": "kuB6CcpvcFkH",
        "outputId": "f7ca6a8f-14ff-4617-dd40-758ba504fc21"
      },
      "execution_count": 5,
      "outputs": [
        {
          "output_type": "stream",
          "name": "stdout",
          "text": [
            "false is not a keyword\n",
            "False is a keyword\n"
          ]
        }
      ]
    },
    {
      "cell_type": "code",
      "source": [
        "# 5.  Create a list and tuple in Python, and demonstrate how attempting to change an element works differently for each\n",
        "l1 = ['yell','well','tell']\n",
        "t1 = ('yell','well','tell')\n",
        "l1[1] = 'fell'"
      ],
      "metadata": {
        "id": "DowLgPwiculH"
      },
      "execution_count": 6,
      "outputs": []
    },
    {
      "cell_type": "code",
      "source": [
        "l1"
      ],
      "metadata": {
        "colab": {
          "base_uri": "https://localhost:8080/"
        },
        "id": "qKnBs930dJCW",
        "outputId": "e861f7ca-12f1-42aa-959c-c2cc028b8486"
      },
      "execution_count": 7,
      "outputs": [
        {
          "output_type": "execute_result",
          "data": {
            "text/plain": [
              "['yell', 'fell', 'tell']"
            ]
          },
          "metadata": {},
          "execution_count": 7
        }
      ]
    },
    {
      "cell_type": "code",
      "source": [
        "t1[1] = 'fell'"
      ],
      "metadata": {
        "colab": {
          "base_uri": "https://localhost:8080/",
          "height": 141
        },
        "id": "-C3o_1lPdJwO",
        "outputId": "67f3a835-100f-41cd-93e1-7426fcc08aa1"
      },
      "execution_count": 8,
      "outputs": [
        {
          "output_type": "error",
          "ename": "TypeError",
          "evalue": "'tuple' object does not support item assignment",
          "traceback": [
            "\u001b[0;31m---------------------------------------------------------------------------\u001b[0m",
            "\u001b[0;31mTypeError\u001b[0m                                 Traceback (most recent call last)",
            "\u001b[0;32m<ipython-input-8-0fe1769a68b1>\u001b[0m in \u001b[0;36m<cell line: 0>\u001b[0;34m()\u001b[0m\n\u001b[0;32m----> 1\u001b[0;31m \u001b[0mt1\u001b[0m\u001b[0;34m[\u001b[0m\u001b[0;36m1\u001b[0m\u001b[0;34m]\u001b[0m \u001b[0;34m=\u001b[0m \u001b[0;34m'fell'\u001b[0m\u001b[0;34m\u001b[0m\u001b[0;34m\u001b[0m\u001b[0m\n\u001b[0m",
            "\u001b[0;31mTypeError\u001b[0m: 'tuple' object does not support item assignment"
          ]
        }
      ]
    },
    {
      "cell_type": "code",
      "source": [
        "# 6. Write a function to demonstrate the behavior of mutable and immutable arguments\n",
        "\n",
        "def modify_elements(a, b):\n",
        "    a.append(4)\n",
        "    b = 10\n",
        "    print(f\"Inside function - a: {a}, b: {b}\")\n",
        "x = [1, 2, 3]  # Mutable list\n",
        "y = 5          # Immutable integer\n",
        "modify_elements(x, y)\n",
        "print(f\"Outside function - x: {x}, y: {y}\")"
      ],
      "metadata": {
        "colab": {
          "base_uri": "https://localhost:8080/"
        },
        "id": "u5KL5RBMdL8T",
        "outputId": "368bf917-f89f-404a-f44d-112355f50819"
      },
      "execution_count": 9,
      "outputs": [
        {
          "output_type": "stream",
          "name": "stdout",
          "text": [
            "Inside function - a: [1, 2, 3, 4], b: 10\n",
            "Outside function - x: [1, 2, 3, 4], y: 5\n"
          ]
        }
      ]
    },
    {
      "cell_type": "code",
      "source": [
        "# 7. Write a program that performs basic arithmetic operations on two user-input numbers.\n",
        "\n",
        "a = 10\n",
        "b = 5\n",
        "sum = a+b\n",
        "diff = a-b\n",
        "prod = a*b\n",
        "div = a/b\n",
        "mod = a%b\n",
        "pow = a**b\n",
        "print(f\"sum is {sum}\\nDifference is {diff}\\nProduct is {prod}\\nDivision is {div}\\nModulus is {mod}\\nPower is {pow}\")"
      ],
      "metadata": {
        "colab": {
          "base_uri": "https://localhost:8080/"
        },
        "id": "srEthhnWduQg",
        "outputId": "036fed56-a873-43be-caf2-6b5b428a0d50"
      },
      "execution_count": 10,
      "outputs": [
        {
          "output_type": "stream",
          "name": "stdout",
          "text": [
            "sum is 15\n",
            "Difference is 5\n",
            "Product is 50\n",
            "Division is 2.0\n",
            "Modulus is 0\n",
            "Power is 100000\n"
          ]
        }
      ]
    },
    {
      "cell_type": "code",
      "source": [
        "# 8.  Write a program to demonstrate the use of logical operators\n",
        "\n",
        "x = 69\n",
        "y = 96\n",
        "z = 69\n",
        "\n",
        "# Logical AND\n",
        "if x == z and y > x:\n",
        "    print(\"x is equal to z and y is greater than x\")\n",
        "\n",
        "# Logical OR\n",
        "if x == z or y < x:\n",
        "    print(\"Either x is equal to z or y is less than x\")\n",
        "\n",
        "# Logical NOT\n",
        "if not(x > y):\n",
        "    print(\"x is not greater than y\")\n"
      ],
      "metadata": {
        "colab": {
          "base_uri": "https://localhost:8080/"
        },
        "id": "eP-YQ_aQeM2x",
        "outputId": "42cfed05-c630-4e75-e6e2-ee00d3f5ad35"
      },
      "execution_count": 22,
      "outputs": [
        {
          "output_type": "stream",
          "name": "stdout",
          "text": [
            "x is equal to z and y is greater than x\n",
            "Either x is equal to z or y is less than x\n",
            "x is not greater than y\n"
          ]
        }
      ]
    },
    {
      "cell_type": "code",
      "source": [
        "# 9. Write a Python program to convert user input from string to integer, float, and boolean types.\n",
        "s = input(\"Enter a string: \")"
      ],
      "metadata": {
        "colab": {
          "base_uri": "https://localhost:8080/"
        },
        "id": "mZOs1fIheV0W",
        "outputId": "e28d42af-464b-4892-db57-26984aaa575e"
      },
      "execution_count": 24,
      "outputs": [
        {
          "name": "stdout",
          "output_type": "stream",
          "text": [
            "Enter a string: 123\n"
          ]
        }
      ]
    },
    {
      "cell_type": "code",
      "source": [
        "tointeger = int(s)\n",
        "tointeger"
      ],
      "metadata": {
        "colab": {
          "base_uri": "https://localhost:8080/"
        },
        "id": "dD1qMTdofej8",
        "outputId": "ddd2ceb8-0ad0-47e4-8c65-dfe07f93bd1a"
      },
      "execution_count": 26,
      "outputs": [
        {
          "output_type": "execute_result",
          "data": {
            "text/plain": [
              "123"
            ]
          },
          "metadata": {},
          "execution_count": 26
        }
      ]
    },
    {
      "cell_type": "code",
      "source": [
        "type(tointeger)"
      ],
      "metadata": {
        "colab": {
          "base_uri": "https://localhost:8080/"
        },
        "id": "wiqcGZWkfkLb",
        "outputId": "f71f0623-68fd-4bf7-b0a5-0f4f1f3ea58d"
      },
      "execution_count": 27,
      "outputs": [
        {
          "output_type": "execute_result",
          "data": {
            "text/plain": [
              "int"
            ]
          },
          "metadata": {},
          "execution_count": 27
        }
      ]
    },
    {
      "cell_type": "code",
      "source": [
        "tofloat = float(s)\n",
        "tofloat"
      ],
      "metadata": {
        "colab": {
          "base_uri": "https://localhost:8080/"
        },
        "id": "YQdNogLXfrjI",
        "outputId": "55fa632f-e522-427d-b798-4abe753c241c"
      },
      "execution_count": 28,
      "outputs": [
        {
          "output_type": "execute_result",
          "data": {
            "text/plain": [
              "123.0"
            ]
          },
          "metadata": {},
          "execution_count": 28
        }
      ]
    },
    {
      "cell_type": "code",
      "source": [
        "type(tofloat)"
      ],
      "metadata": {
        "colab": {
          "base_uri": "https://localhost:8080/"
        },
        "id": "ERy78cAtfvjR",
        "outputId": "b8ab4eee-fa93-4ddf-cb92-ac4d00b505cd"
      },
      "execution_count": 29,
      "outputs": [
        {
          "output_type": "execute_result",
          "data": {
            "text/plain": [
              "float"
            ]
          },
          "metadata": {},
          "execution_count": 29
        }
      ]
    },
    {
      "cell_type": "code",
      "source": [
        "toboolean = bool(s)\n",
        "toboolean"
      ],
      "metadata": {
        "colab": {
          "base_uri": "https://localhost:8080/"
        },
        "id": "pqpUI70rfxTG",
        "outputId": "7d6f8b48-0e04-4cc3-8d5e-9652573caa92"
      },
      "execution_count": 30,
      "outputs": [
        {
          "output_type": "execute_result",
          "data": {
            "text/plain": [
              "True"
            ]
          },
          "metadata": {},
          "execution_count": 30
        }
      ]
    },
    {
      "cell_type": "code",
      "source": [
        "type(toboolean)"
      ],
      "metadata": {
        "colab": {
          "base_uri": "https://localhost:8080/"
        },
        "id": "3ATS9L57f2bp",
        "outputId": "5565a358-e02f-45ac-c09c-d029981417c7"
      },
      "execution_count": 31,
      "outputs": [
        {
          "output_type": "execute_result",
          "data": {
            "text/plain": [
              "bool"
            ]
          },
          "metadata": {},
          "execution_count": 31
        }
      ]
    },
    {
      "cell_type": "code",
      "source": [
        "# 10. Write code to demonstrate type casting with list elements.\n",
        "l1 = [\"12\",\"24\",\"36\"]\n",
        "print(l1)\n",
        "index = 0\n",
        "for i in l1:\n",
        "  l1[index] = int(i)\n",
        "  index=index+1\n",
        "print(l1)"
      ],
      "metadata": {
        "colab": {
          "base_uri": "https://localhost:8080/"
        },
        "id": "-UL8V-3df4U2",
        "outputId": "5da6abda-4a6c-42bb-d1e2-c0d62d2b901a"
      },
      "execution_count": 35,
      "outputs": [
        {
          "output_type": "stream",
          "name": "stdout",
          "text": [
            "['12', '24', '36']\n",
            "[12, 24, 36]\n"
          ]
        }
      ]
    },
    {
      "cell_type": "code",
      "source": [
        "# 11. Write a program that checks if a number is positive, negative, or zero.\n",
        "l = [20,-12,93,63,0,72,-24,0]\n",
        "for x in l:\n",
        "  if(x>0):\n",
        "    print(f\"{x} is positive\")\n",
        "  elif(x<0):\n",
        "    print(f\"{x} is negative\")\n",
        "  else:\n",
        "    print(f\"{x} is zero\")"
      ],
      "metadata": {
        "colab": {
          "base_uri": "https://localhost:8080/"
        },
        "id": "zoen75NxggGh",
        "outputId": "664142da-f9ea-4e01-f36d-4bb37e11e618"
      },
      "execution_count": 36,
      "outputs": [
        {
          "output_type": "stream",
          "name": "stdout",
          "text": [
            "20 is positive\n",
            "-12 is negative\n",
            "93 is positive\n",
            "63 is positive\n",
            "0 is zero\n",
            "72 is positive\n",
            "-24 is negative\n",
            "0 is zero\n"
          ]
        }
      ]
    },
    {
      "cell_type": "code",
      "source": [
        "# 12. Write a for loop to print numbers from 1 to 10.\n",
        "for x in range(1,11):\n",
        "  print(x,end=\" \")"
      ],
      "metadata": {
        "colab": {
          "base_uri": "https://localhost:8080/"
        },
        "id": "wgu03DXphXtD",
        "outputId": "da82d689-9ae8-4824-b3c9-426f241a0074"
      },
      "execution_count": 37,
      "outputs": [
        {
          "output_type": "stream",
          "name": "stdout",
          "text": [
            "1 2 3 4 5 6 7 8 9 10 "
          ]
        }
      ]
    },
    {
      "cell_type": "code",
      "source": [
        "# 13. Write a Python program to find the sum of all even numbers between 1 and 50\n",
        "sum=0\n",
        "for x in range(2,51,2):\n",
        "  sum+=x\n",
        "print(sum)"
      ],
      "metadata": {
        "colab": {
          "base_uri": "https://localhost:8080/"
        },
        "id": "N_FxCQ-Lhh3S",
        "outputId": "cd2ef3a0-93a5-43a3-d8b0-df86858b0298"
      },
      "execution_count": 38,
      "outputs": [
        {
          "output_type": "stream",
          "name": "stdout",
          "text": [
            "650\n"
          ]
        }
      ]
    },
    {
      "cell_type": "code",
      "source": [
        "# 14. Write a program to reverse a string using a while loop.\n",
        "str = input(\"Enter a word: \")\n",
        "print(str[::-1])"
      ],
      "metadata": {
        "colab": {
          "base_uri": "https://localhost:8080/"
        },
        "id": "LwOig_L8ht4G",
        "outputId": "75776553-ef76-436d-8efd-862a285920b5"
      },
      "execution_count": 39,
      "outputs": [
        {
          "output_type": "stream",
          "name": "stdout",
          "text": [
            "Enter a word: sisteryell\n",
            "lleyretsis\n"
          ]
        }
      ]
    },
    {
      "cell_type": "code",
      "source": [
        "# 15. Write a Python program to calculate the factorial of a number provided by the user using a while loop\n",
        "num = int(input(\"Enter a number: \"))\n",
        "fact = 1\n",
        "for i in range(1,num+1):\n",
        "  fact = fact*i\n",
        "print(fact)"
      ],
      "metadata": {
        "colab": {
          "base_uri": "https://localhost:8080/"
        },
        "id": "ErNyLr1eiF46",
        "outputId": "acabcc01-fb9a-4bd4-fe4b-4066a4ea3856"
      },
      "execution_count": 40,
      "outputs": [
        {
          "output_type": "stream",
          "name": "stdout",
          "text": [
            "Enter a number: 5\n",
            "120\n"
          ]
        }
      ]
    }
  ]
}